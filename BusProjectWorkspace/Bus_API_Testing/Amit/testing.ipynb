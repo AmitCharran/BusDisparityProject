{
 "cells": [
  {
   "cell_type": "code",
   "execution_count": 1,
   "metadata": {
    "collapsed": true,
    "pycharm": {
     "name": "#%%\n"
    }
   },
   "outputs": [],
   "source": [
    "import json\n",
    "\n",
    "with open('TextFileFolder/reduced_vehicle_monitoring_file.txt') as json_file:\n",
    "    data = json.load(json_file)"
   ]
  },
  {
   "cell_type": "code",
   "execution_count": 2,
   "outputs": [
    {
     "data": {
      "text/plain": "{'MonitoredVehicleJourney': {'LineRef': 'MTA NYCT_M20',\n  'DirectionRef': '0',\n  'FramedVehicleJourneyRef': {'DataFrameRef': '2020-11-05',\n   'DatedVehicleJourneyRef': 'MTA NYCT_MQ_D0-Weekday-SDon-100000_M20_164'},\n  'JourneyPatternRef': 'MTA_M200464',\n  'PublishedLineName': 'M20',\n  'OperatorRef': 'MTA NYCT',\n  'OriginRef': 'MTA_803184',\n  'DestinationRef': 'MTA_400858',\n  'DestinationName': 'LINCOLN CENTER 66 ST via 8 AV',\n  'OriginAimedDepartureTime': '2020-11-05T18:10:00.000-05:00',\n  'SituationRef': [{'SituationSimpleRef': 'MTA NYCT_ecd93e01-b716-49a6-8f58-bebedabf6f12'}],\n  'Monitored': True,\n  'VehicleLocation': {'Longitude': -73.982272, 'Latitude': 40.7718},\n  'Bearing': 272.1927,\n  'ProgressRate': 'noProgress',\n  'ProgressStatus': 'layover',\n  'BlockRef': 'MTA NYCT_MQ_D0-Weekday-SDon_E_MQ_23700_M20-153',\n  'VehicleRef': 'MTA NYCT_3824',\n  'MonitoredCall': {'Extensions': {'Distances': {'PresentableDistance': 'at stop',\n     'DistanceFromCall': 0.0,\n     'StopsFromCall': 0,\n     'CallDistanceAlongRoute': 10262.05}},\n   'StopPointRef': 'MTA_400858',\n   'VisitNumber': 1,\n   'StopPointName': 'BROADWAY/W 64 ST'},\n  'OnwardCalls': {}},\n 'RecordedAtTime': '2020-11-05T17:55:45.000-05:00'}"
     },
     "execution_count": 2,
     "metadata": {},
     "output_type": "execute_result"
    }
   ],
   "source": [
    "data[0]"
   ],
   "metadata": {
    "collapsed": false,
    "pycharm": {
     "name": "#%%\n"
    }
   }
  },
  {
   "cell_type": "code",
   "execution_count": 21,
   "outputs": [
    {
     "data": {
      "text/plain": "'LINCOLN CENTER 66 ST via 8 AV'"
     },
     "execution_count": 21,
     "metadata": {},
     "output_type": "execute_result"
    }
   ],
   "source": [
    "data[0]['MonitoredVehicleJourney']['DestinationName']"
   ],
   "metadata": {
    "collapsed": false,
    "pycharm": {
     "name": "#%%\n"
    }
   }
  },
  {
   "cell_type": "code",
   "execution_count": 22,
   "outputs": [
    {
     "data": {
      "text/plain": "'2020-11-05T17:55:45.000-05:00'"
     },
     "execution_count": 22,
     "metadata": {},
     "output_type": "execute_result"
    }
   ],
   "source": [
    "data[0]['RecordedAtTime']"
   ],
   "metadata": {
    "collapsed": false,
    "pycharm": {
     "name": "#%%\n"
    }
   }
  },
  {
   "cell_type": "code",
   "execution_count": null,
   "outputs": [],
   "source": [],
   "metadata": {
    "collapsed": false,
    "pycharm": {
     "name": "#%%\n"
    }
   }
  }
 ],
 "metadata": {
  "kernelspec": {
   "display_name": "Python 3",
   "language": "python",
   "name": "python3"
  },
  "language_info": {
   "codemirror_mode": {
    "name": "ipython",
    "version": 2
   },
   "file_extension": ".py",
   "mimetype": "text/x-python",
   "name": "python",
   "nbconvert_exporter": "python",
   "pygments_lexer": "ipython2",
   "version": "2.7.6"
  }
 },
 "nbformat": 4,
 "nbformat_minor": 0
}